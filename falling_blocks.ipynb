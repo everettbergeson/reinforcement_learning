{
  "nbformat": 4,
  "nbformat_minor": 0,
  "metadata": {
    "colab": {
      "provenance": [],
      "authorship_tag": "ABX9TyMCYdlV0m8xf/GdMtIuDDhw",
      "include_colab_link": true
    },
    "kernelspec": {
      "name": "python3",
      "display_name": "Python 3"
    },
    "language_info": {
      "name": "python"
    }
  },
  "cells": [
    {
      "cell_type": "markdown",
      "metadata": {
        "id": "view-in-github",
        "colab_type": "text"
      },
      "source": [
        "<a href=\"https://colab.research.google.com/github/everettbergeson/reinforcement_learning/blob/main/falling_blocks.ipynb\" target=\"_parent\"><img src=\"https://colab.research.google.com/assets/colab-badge.svg\" alt=\"Open In Colab\"/></a>"
      ]
    },
    {
      "cell_type": "code",
      "execution_count": null,
      "metadata": {
        "id": "SkbrRct3NixK"
      },
      "outputs": [],
      "source": [
        "import numpy as np\n",
        "import time\n",
        "\n",
        "import matplotlib.pyplot as plt\n",
        "import matplotlib.cm as cm\n",
        "import matplotlib.animation as animation"
      ]
    },
    {
      "cell_type": "code",
      "source": [
        "score = 0\n",
        "i = 0\n",
        "states = []\n",
        "block = np.array([0,5])\n",
        "grid = np.zeros((15, 10))\n",
        "grid[block[0], block[1]] = 1\n",
        "falling = True\n",
        "\n",
        "while True:\n",
        "  move = np.random.choice(3)\n",
        "  states.append([grid, score])\n",
        "  grid = grid.copy()\n",
        "  # If we're falling\n",
        "  if falling:\n",
        "    # Look to see if the next spot is available\n",
        "    # If it's not, we're not falling anymore, we've landed.\n",
        "    if  block[0] >= len(grid) - 1 or grid[block[0] + 1, block[1]] == 1:\n",
        "      falling = False\n",
        "    # If the row is full, shift the entire grid down by 1\n",
        "      if np.sum(grid[block[0]]) == len(grid[0]):\n",
        "         grid[1:block[0]+1] = grid[:block[0]]\n",
        "         grid[0] = np.zeros_like(grid[0])\n",
        "         score += 1\n",
        "    # Otherwise, delete where we just came from and move to the next square\n",
        "    else:\n",
        "      grid[block[0], block[1]] = 0\n",
        "      block += np.array([1,0])\n",
        "      grid[block[0], block[1]] = 1\n",
        "      i += 1\n",
        "      # Look for a move\n",
        "      if move == 1:\n",
        "        # Check the border of the screen\n",
        "        # Check that the square next to it isn't\n",
        "        if block[1] != 0 and grid[block[0], block[1]-1] != 1:\n",
        "          block -= np.array([0,1])\n",
        "          grid[block[0], block[1] + 1] = 0\n",
        "          grid[block[0], block[1]] = 1\n",
        "      elif move == 2:\n",
        "        if block[1] != len(grid[0]) - 1 and grid[block[0], block[1]+1] != 1:\n",
        "          block += np.array([0,1])\n",
        "          grid[block[0], block[1] - 1] = 0\n",
        "          grid[block[0], block[1]] = 1\n",
        "\n",
        "\n",
        "  # If we're not falling anymore, check to see if there is a brick in the top spot\n",
        "  else:\n",
        "    # If there's a brick in the top spot, game over\n",
        "    if grid[0,5] == 1:\n",
        "      print(\"GAME OVER\")\n",
        "      break\n",
        "    else:\n",
        "      block = np.array([0,5])\n",
        "      grid[block[0], block[1]] = 1\n",
        "      falling = True"
      ],
      "metadata": {
        "colab": {
          "base_uri": "https://localhost:8080/"
        },
        "id": "ze6KRwvROHtv",
        "outputId": "14a2bfd8-eb27-4e92-920e-b0c4cae883fd"
      },
      "execution_count": null,
      "outputs": [
        {
          "output_type": "stream",
          "name": "stdout",
          "text": [
            "GAME OVER\n"
          ]
        }
      ]
    },
    {
      "cell_type": "code",
      "source": [
        "len(states), states[-1][-1]"
      ],
      "metadata": {
        "colab": {
          "base_uri": "https://localhost:8080/"
        },
        "id": "GPdF1i8qte9p",
        "outputId": "4fd5b2ab-479f-4714-d144-a45ea7c39295"
      },
      "execution_count": null,
      "outputs": [
        {
          "output_type": "execute_result",
          "data": {
            "text/plain": [
              "(735, 1)"
            ]
          },
          "metadata": {},
          "execution_count": 36
        }
      ]
    },
    {
      "cell_type": "code",
      "source": [
        "snapshots = [i for i, j in states]\n",
        "\n",
        "# First set up the figure, the axis, and the plot element we want to animate\n",
        "fig = plt.figure( figsize=(8,8) )\n",
        "\n",
        "a = snapshots[0]\n",
        "im = plt.imshow(a, cmap='gray', animated=True)\n",
        "\n",
        "def animate_func(i):\n",
        "    im.set_array(snapshots[i])\n",
        "    return [im]\n",
        "\n",
        "anim = animation.FuncAnimation(\n",
        "                               fig,\n",
        "                               animate_func,\n",
        "                               interval=50,\n",
        "                               frames = len(states)\n",
        "                               )\n",
        "\n",
        "anim.save('test_anim.mp4')"
      ],
      "metadata": {
        "colab": {
          "base_uri": "https://localhost:8080/",
          "height": 676
        },
        "id": "7S4T8d_fG30k",
        "outputId": "cb10e3fc-7023-44f2-a5e1-b63f76b5499a"
      },
      "execution_count": null,
      "outputs": [
        {
          "output_type": "display_data",
          "data": {
            "text/plain": [
              "<Figure size 800x800 with 1 Axes>"
            ],
            "image/png": "[encoded data removed]"
          },
          "metadata": {}
        }
      ]
    },
    {
      "cell_type": "code",
      "source": [],
      "metadata": {
        "id": "1TwYUVKeOQbh"
      },
      "execution_count": null,
      "outputs": []
    }
  ]
}